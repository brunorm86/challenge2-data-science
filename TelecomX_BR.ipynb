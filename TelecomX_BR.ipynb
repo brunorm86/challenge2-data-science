{
 "cells": [
  {
   "cell_type": "markdown",
   "metadata": {
    "id": "4foVEKhrlqcH"
   },
   "source": "# 📌 Extracão"
  },
  {
   "metadata": {
    "ExecuteTime": {
     "end_time": "2025-06-11T00:34:38.191633Z",
     "start_time": "2025-06-11T00:34:37.572538Z"
    }
   },
   "cell_type": "code",
   "source": [
    "# Importação das bibliotecas\n",
    "\n",
    "import pandas as pd\n",
    "import numpy as np\n",
    "import seaborn as sns\n",
    "\n",
    "import requests\n",
    "import json\n"
   ],
   "outputs": [],
   "execution_count": 1
  },
  {
   "cell_type": "code",
   "metadata": {
    "id": "1--uPM88l7JH",
    "ExecuteTime": {
     "end_time": "2025-06-11T00:34:39.119868Z",
     "start_time": "2025-06-11T00:34:38.722270Z"
    }
   },
   "source": [
    "# Request e transformação dos dados\n",
    "\n",
    "try:\n",
    "    url = 'https://raw.githubusercontent.com/brunorm86/challenge2-data-science/refs/heads/main/TelecomX_Data.json'\n",
    "\n",
    "    json_data = requests.get(url).json()\n",
    "\n",
    "# Caso não consiga ler os dados pela url, lê sua cópia offline\n",
    "except:\n",
    "    with open('data/TelecomX_Data.json', 'r') as file:\n",
    "        json_data = json.load(file)\n"
   ],
   "outputs": [],
   "execution_count": 2
  },
  {
   "metadata": {
    "ExecuteTime": {
     "end_time": "2025-06-11T00:34:39.191190Z",
     "start_time": "2025-06-11T00:34:39.178989Z"
    }
   },
   "cell_type": "code",
   "source": "json_data[0]",
   "outputs": [
    {
     "data": {
      "text/plain": [
       "{'customerID': '0002-ORFBO',\n",
       " 'Churn': 'No',\n",
       " 'customer': {'gender': 'Female',\n",
       "  'SeniorCitizen': 0,\n",
       "  'Partner': 'Yes',\n",
       "  'Dependents': 'Yes',\n",
       "  'tenure': 9},\n",
       " 'phone': {'PhoneService': 'Yes', 'MultipleLines': 'No'},\n",
       " 'internet': {'InternetService': 'DSL',\n",
       "  'OnlineSecurity': 'No',\n",
       "  'OnlineBackup': 'Yes',\n",
       "  'DeviceProtection': 'No',\n",
       "  'TechSupport': 'Yes',\n",
       "  'StreamingTV': 'Yes',\n",
       "  'StreamingMovies': 'No'},\n",
       " 'account': {'Contract': 'One year',\n",
       "  'PaperlessBilling': 'Yes',\n",
       "  'PaymentMethod': 'Mailed check',\n",
       "  'Charges': {'Monthly': 65.6, 'Total': '593.3'}}}"
      ]
     },
     "execution_count": 3,
     "metadata": {},
     "output_type": "execute_result"
    }
   ],
   "execution_count": 3
  },
  {
   "metadata": {
    "ExecuteTime": {
     "end_time": "2025-06-11T00:34:39.220022Z",
     "start_time": "2025-06-11T00:34:39.215975Z"
    }
   },
   "cell_type": "code",
   "source": "# Dados \"aninhados\" no json",
   "outputs": [],
   "execution_count": 4
  },
  {
   "cell_type": "markdown",
   "metadata": {
    "id": "1lSZP8zmmGZu"
   },
   "source": "# 🔧 Transformação"
  },
  {
   "metadata": {},
   "cell_type": "markdown",
   "source": "#### Extração de Dados"
  },
  {
   "metadata": {},
   "cell_type": "markdown",
   "source": "Desaninhamento dos dados"
  },
  {
   "cell_type": "code",
   "metadata": {
    "id": "bsm-WTLjmHvt",
    "ExecuteTime": {
     "end_time": "2025-06-11T00:34:39.363837Z",
     "start_time": "2025-06-11T00:34:39.254003Z"
    }
   },
   "source": [
    "'''\n",
    "customer = pd.json_normalize(df_raw['customer'])\n",
    "\n",
    "phone = pd.json_normalize(df_raw['phone'])\n",
    "\n",
    "internet = pd.json_normalize(df_raw['internet'])\n",
    "\n",
    "account = pd.json_normalize(df_raw['account'])\n",
    "'''\n",
    "\n",
    "# desaninhando os dados com .json_normalize()\n",
    "\n",
    "df = pd.json_normalize(json_data)\n",
    "\n",
    "df.head()"
   ],
   "outputs": [
    {
     "data": {
      "text/plain": [
       "   customerID Churn customer.gender  customer.SeniorCitizen customer.Partner  \\\n",
       "0  0002-ORFBO    No          Female                       0              Yes   \n",
       "1  0003-MKNFE    No            Male                       0               No   \n",
       "2  0004-TLHLJ   Yes            Male                       0               No   \n",
       "3  0011-IGKFF   Yes            Male                       1              Yes   \n",
       "4  0013-EXCHZ   Yes          Female                       1              Yes   \n",
       "\n",
       "  customer.Dependents  customer.tenure phone.PhoneService phone.MultipleLines  \\\n",
       "0                 Yes                9                Yes                  No   \n",
       "1                  No                9                Yes                 Yes   \n",
       "2                  No                4                Yes                  No   \n",
       "3                  No               13                Yes                  No   \n",
       "4                  No                3                Yes                  No   \n",
       "\n",
       "  internet.InternetService  ... internet.OnlineBackup  \\\n",
       "0                      DSL  ...                   Yes   \n",
       "1                      DSL  ...                    No   \n",
       "2              Fiber optic  ...                    No   \n",
       "3              Fiber optic  ...                   Yes   \n",
       "4              Fiber optic  ...                    No   \n",
       "\n",
       "  internet.DeviceProtection internet.TechSupport internet.StreamingTV  \\\n",
       "0                        No                  Yes                  Yes   \n",
       "1                        No                   No                   No   \n",
       "2                       Yes                   No                   No   \n",
       "3                       Yes                   No                  Yes   \n",
       "4                        No                  Yes                  Yes   \n",
       "\n",
       "  internet.StreamingMovies account.Contract account.PaperlessBilling  \\\n",
       "0                       No         One year                      Yes   \n",
       "1                      Yes   Month-to-month                       No   \n",
       "2                       No   Month-to-month                      Yes   \n",
       "3                      Yes   Month-to-month                      Yes   \n",
       "4                       No   Month-to-month                      Yes   \n",
       "\n",
       "  account.PaymentMethod account.Charges.Monthly  account.Charges.Total  \n",
       "0          Mailed check                    65.6                  593.3  \n",
       "1          Mailed check                    59.9                  542.4  \n",
       "2      Electronic check                    73.9                 280.85  \n",
       "3      Electronic check                    98.0                1237.85  \n",
       "4          Mailed check                    83.9                  267.4  \n",
       "\n",
       "[5 rows x 21 columns]"
      ],
      "text/html": [
       "<div>\n",
       "<style scoped>\n",
       "    .dataframe tbody tr th:only-of-type {\n",
       "        vertical-align: middle;\n",
       "    }\n",
       "\n",
       "    .dataframe tbody tr th {\n",
       "        vertical-align: top;\n",
       "    }\n",
       "\n",
       "    .dataframe thead th {\n",
       "        text-align: right;\n",
       "    }\n",
       "</style>\n",
       "<table border=\"1\" class=\"dataframe\">\n",
       "  <thead>\n",
       "    <tr style=\"text-align: right;\">\n",
       "      <th></th>\n",
       "      <th>customerID</th>\n",
       "      <th>Churn</th>\n",
       "      <th>customer.gender</th>\n",
       "      <th>customer.SeniorCitizen</th>\n",
       "      <th>customer.Partner</th>\n",
       "      <th>customer.Dependents</th>\n",
       "      <th>customer.tenure</th>\n",
       "      <th>phone.PhoneService</th>\n",
       "      <th>phone.MultipleLines</th>\n",
       "      <th>internet.InternetService</th>\n",
       "      <th>...</th>\n",
       "      <th>internet.OnlineBackup</th>\n",
       "      <th>internet.DeviceProtection</th>\n",
       "      <th>internet.TechSupport</th>\n",
       "      <th>internet.StreamingTV</th>\n",
       "      <th>internet.StreamingMovies</th>\n",
       "      <th>account.Contract</th>\n",
       "      <th>account.PaperlessBilling</th>\n",
       "      <th>account.PaymentMethod</th>\n",
       "      <th>account.Charges.Monthly</th>\n",
       "      <th>account.Charges.Total</th>\n",
       "    </tr>\n",
       "  </thead>\n",
       "  <tbody>\n",
       "    <tr>\n",
       "      <th>0</th>\n",
       "      <td>0002-ORFBO</td>\n",
       "      <td>No</td>\n",
       "      <td>Female</td>\n",
       "      <td>0</td>\n",
       "      <td>Yes</td>\n",
       "      <td>Yes</td>\n",
       "      <td>9</td>\n",
       "      <td>Yes</td>\n",
       "      <td>No</td>\n",
       "      <td>DSL</td>\n",
       "      <td>...</td>\n",
       "      <td>Yes</td>\n",
       "      <td>No</td>\n",
       "      <td>Yes</td>\n",
       "      <td>Yes</td>\n",
       "      <td>No</td>\n",
       "      <td>One year</td>\n",
       "      <td>Yes</td>\n",
       "      <td>Mailed check</td>\n",
       "      <td>65.6</td>\n",
       "      <td>593.3</td>\n",
       "    </tr>\n",
       "    <tr>\n",
       "      <th>1</th>\n",
       "      <td>0003-MKNFE</td>\n",
       "      <td>No</td>\n",
       "      <td>Male</td>\n",
       "      <td>0</td>\n",
       "      <td>No</td>\n",
       "      <td>No</td>\n",
       "      <td>9</td>\n",
       "      <td>Yes</td>\n",
       "      <td>Yes</td>\n",
       "      <td>DSL</td>\n",
       "      <td>...</td>\n",
       "      <td>No</td>\n",
       "      <td>No</td>\n",
       "      <td>No</td>\n",
       "      <td>No</td>\n",
       "      <td>Yes</td>\n",
       "      <td>Month-to-month</td>\n",
       "      <td>No</td>\n",
       "      <td>Mailed check</td>\n",
       "      <td>59.9</td>\n",
       "      <td>542.4</td>\n",
       "    </tr>\n",
       "    <tr>\n",
       "      <th>2</th>\n",
       "      <td>0004-TLHLJ</td>\n",
       "      <td>Yes</td>\n",
       "      <td>Male</td>\n",
       "      <td>0</td>\n",
       "      <td>No</td>\n",
       "      <td>No</td>\n",
       "      <td>4</td>\n",
       "      <td>Yes</td>\n",
       "      <td>No</td>\n",
       "      <td>Fiber optic</td>\n",
       "      <td>...</td>\n",
       "      <td>No</td>\n",
       "      <td>Yes</td>\n",
       "      <td>No</td>\n",
       "      <td>No</td>\n",
       "      <td>No</td>\n",
       "      <td>Month-to-month</td>\n",
       "      <td>Yes</td>\n",
       "      <td>Electronic check</td>\n",
       "      <td>73.9</td>\n",
       "      <td>280.85</td>\n",
       "    </tr>\n",
       "    <tr>\n",
       "      <th>3</th>\n",
       "      <td>0011-IGKFF</td>\n",
       "      <td>Yes</td>\n",
       "      <td>Male</td>\n",
       "      <td>1</td>\n",
       "      <td>Yes</td>\n",
       "      <td>No</td>\n",
       "      <td>13</td>\n",
       "      <td>Yes</td>\n",
       "      <td>No</td>\n",
       "      <td>Fiber optic</td>\n",
       "      <td>...</td>\n",
       "      <td>Yes</td>\n",
       "      <td>Yes</td>\n",
       "      <td>No</td>\n",
       "      <td>Yes</td>\n",
       "      <td>Yes</td>\n",
       "      <td>Month-to-month</td>\n",
       "      <td>Yes</td>\n",
       "      <td>Electronic check</td>\n",
       "      <td>98.0</td>\n",
       "      <td>1237.85</td>\n",
       "    </tr>\n",
       "    <tr>\n",
       "      <th>4</th>\n",
       "      <td>0013-EXCHZ</td>\n",
       "      <td>Yes</td>\n",
       "      <td>Female</td>\n",
       "      <td>1</td>\n",
       "      <td>Yes</td>\n",
       "      <td>No</td>\n",
       "      <td>3</td>\n",
       "      <td>Yes</td>\n",
       "      <td>No</td>\n",
       "      <td>Fiber optic</td>\n",
       "      <td>...</td>\n",
       "      <td>No</td>\n",
       "      <td>No</td>\n",
       "      <td>Yes</td>\n",
       "      <td>Yes</td>\n",
       "      <td>No</td>\n",
       "      <td>Month-to-month</td>\n",
       "      <td>Yes</td>\n",
       "      <td>Mailed check</td>\n",
       "      <td>83.9</td>\n",
       "      <td>267.4</td>\n",
       "    </tr>\n",
       "  </tbody>\n",
       "</table>\n",
       "<p>5 rows × 21 columns</p>\n",
       "</div>"
      ]
     },
     "execution_count": 5,
     "metadata": {},
     "output_type": "execute_result"
    }
   ],
   "execution_count": 5
  },
  {
   "metadata": {},
   "cell_type": "markdown",
   "source": "#### Conhecendo os Dados"
  },
  {
   "metadata": {
    "ExecuteTime": {
     "end_time": "2025-06-11T00:34:39.428923Z",
     "start_time": "2025-06-11T00:34:39.422692Z"
    }
   },
   "cell_type": "code",
   "source": "df.shape",
   "outputs": [
    {
     "data": {
      "text/plain": [
       "(7267, 21)"
      ]
     },
     "execution_count": 6,
     "metadata": {},
     "output_type": "execute_result"
    }
   ],
   "execution_count": 6
  },
  {
   "metadata": {
    "ExecuteTime": {
     "end_time": "2025-06-11T00:34:39.584001Z",
     "start_time": "2025-06-11T00:34:39.571909Z"
    }
   },
   "cell_type": "code",
   "source": "df.info()",
   "outputs": [
    {
     "name": "stdout",
     "output_type": "stream",
     "text": [
      "<class 'pandas.core.frame.DataFrame'>\n",
      "RangeIndex: 7267 entries, 0 to 7266\n",
      "Data columns (total 21 columns):\n",
      " #   Column                     Non-Null Count  Dtype  \n",
      "---  ------                     --------------  -----  \n",
      " 0   customerID                 7267 non-null   object \n",
      " 1   Churn                      7267 non-null   object \n",
      " 2   customer.gender            7267 non-null   object \n",
      " 3   customer.SeniorCitizen     7267 non-null   int64  \n",
      " 4   customer.Partner           7267 non-null   object \n",
      " 5   customer.Dependents        7267 non-null   object \n",
      " 6   customer.tenure            7267 non-null   int64  \n",
      " 7   phone.PhoneService         7267 non-null   object \n",
      " 8   phone.MultipleLines        7267 non-null   object \n",
      " 9   internet.InternetService   7267 non-null   object \n",
      " 10  internet.OnlineSecurity    7267 non-null   object \n",
      " 11  internet.OnlineBackup      7267 non-null   object \n",
      " 12  internet.DeviceProtection  7267 non-null   object \n",
      " 13  internet.TechSupport       7267 non-null   object \n",
      " 14  internet.StreamingTV       7267 non-null   object \n",
      " 15  internet.StreamingMovies   7267 non-null   object \n",
      " 16  account.Contract           7267 non-null   object \n",
      " 17  account.PaperlessBilling   7267 non-null   object \n",
      " 18  account.PaymentMethod      7267 non-null   object \n",
      " 19  account.Charges.Monthly    7267 non-null   float64\n",
      " 20  account.Charges.Total      7267 non-null   object \n",
      "dtypes: float64(1), int64(2), object(18)\n",
      "memory usage: 1.2+ MB\n"
     ]
    }
   ],
   "execution_count": 7
  },
  {
   "metadata": {},
   "cell_type": "markdown",
   "source": "Padronizar os valores das colunas e transformar os tipos de dados para mais apropriados"
  },
  {
   "metadata": {
    "ExecuteTime": {
     "end_time": "2025-06-11T00:34:39.677694Z",
     "start_time": "2025-06-11T00:34:39.671896Z"
    }
   },
   "cell_type": "code",
   "source": "df['Churn'].unique()",
   "outputs": [
    {
     "data": {
      "text/plain": [
       "array(['No', 'Yes', ''], dtype=object)"
      ]
     },
     "execution_count": 8,
     "metadata": {},
     "output_type": "execute_result"
    }
   ],
   "execution_count": 8
  },
  {
   "metadata": {
    "ExecuteTime": {
     "end_time": "2025-06-11T00:34:39.754002Z",
     "start_time": "2025-06-11T00:34:39.745526Z"
    }
   },
   "cell_type": "code",
   "source": "df['Churn'] = df['Churn'].map({'No': 'No', 'Yes':'Yes', '': None})",
   "outputs": [],
   "execution_count": 9
  },
  {
   "metadata": {
    "ExecuteTime": {
     "end_time": "2025-06-11T00:34:39.800252Z",
     "start_time": "2025-06-11T00:34:39.795365Z"
    }
   },
   "cell_type": "code",
   "source": "df['customer.SeniorCitizen'].unique()",
   "outputs": [
    {
     "data": {
      "text/plain": [
       "array([0, 1])"
      ]
     },
     "execution_count": 10,
     "metadata": {},
     "output_type": "execute_result"
    }
   ],
   "execution_count": 10
  },
  {
   "metadata": {
    "ExecuteTime": {
     "end_time": "2025-06-11T00:34:39.877827Z",
     "start_time": "2025-06-11T00:34:39.870993Z"
    }
   },
   "cell_type": "code",
   "source": "df['customer.SeniorCitizen'] = df['customer.SeniorCitizen'].map({1: 'Yes', 0: 'No'})",
   "outputs": [],
   "execution_count": 11
  },
  {
   "metadata": {
    "ExecuteTime": {
     "end_time": "2025-06-11T00:34:39.927578Z",
     "start_time": "2025-06-11T00:34:39.919665Z"
    }
   },
   "cell_type": "code",
   "source": "df['customer.Partner'].unique()",
   "outputs": [
    {
     "data": {
      "text/plain": [
       "array(['Yes', 'No'], dtype=object)"
      ]
     },
     "execution_count": 12,
     "metadata": {},
     "output_type": "execute_result"
    }
   ],
   "execution_count": 12
  },
  {
   "metadata": {
    "ExecuteTime": {
     "end_time": "2025-06-11T00:34:40.005308Z",
     "start_time": "2025-06-11T00:34:39.997280Z"
    }
   },
   "cell_type": "code",
   "source": "df['customer.Dependents'].unique()",
   "outputs": [
    {
     "data": {
      "text/plain": [
       "array(['Yes', 'No'], dtype=object)"
      ]
     },
     "execution_count": 13,
     "metadata": {},
     "output_type": "execute_result"
    }
   ],
   "execution_count": 13
  },
  {
   "metadata": {
    "ExecuteTime": {
     "end_time": "2025-06-11T00:34:40.060289Z",
     "start_time": "2025-06-11T00:34:40.052170Z"
    }
   },
   "cell_type": "code",
   "source": "df['phone.PhoneService'].unique()",
   "outputs": [
    {
     "data": {
      "text/plain": [
       "array(['Yes', 'No'], dtype=object)"
      ]
     },
     "execution_count": 14,
     "metadata": {},
     "output_type": "execute_result"
    }
   ],
   "execution_count": 14
  },
  {
   "metadata": {
    "ExecuteTime": {
     "end_time": "2025-06-11T00:34:40.119447Z",
     "start_time": "2025-06-11T00:34:40.111827Z"
    }
   },
   "cell_type": "code",
   "source": "df['phone.MultipleLines'].unique()",
   "outputs": [
    {
     "data": {
      "text/plain": [
       "array(['No', 'Yes', 'No phone service'], dtype=object)"
      ]
     },
     "execution_count": 15,
     "metadata": {},
     "output_type": "execute_result"
    }
   ],
   "execution_count": 15
  },
  {
   "metadata": {
    "ExecuteTime": {
     "end_time": "2025-06-11T00:34:40.185245Z",
     "start_time": "2025-06-11T00:34:40.178244Z"
    }
   },
   "cell_type": "code",
   "source": "df['internet.InternetService'].unique()",
   "outputs": [
    {
     "data": {
      "text/plain": [
       "array(['DSL', 'Fiber optic', 'No'], dtype=object)"
      ]
     },
     "execution_count": 16,
     "metadata": {},
     "output_type": "execute_result"
    }
   ],
   "execution_count": 16
  },
  {
   "metadata": {
    "ExecuteTime": {
     "end_time": "2025-06-11T00:34:40.253166Z",
     "start_time": "2025-06-11T00:34:40.246421Z"
    }
   },
   "cell_type": "code",
   "source": "df['internet.OnlineSecurity'].unique()",
   "outputs": [
    {
     "data": {
      "text/plain": [
       "array(['No', 'Yes', 'No internet service'], dtype=object)"
      ]
     },
     "execution_count": 17,
     "metadata": {},
     "output_type": "execute_result"
    }
   ],
   "execution_count": 17
  },
  {
   "metadata": {
    "ExecuteTime": {
     "end_time": "2025-06-11T00:34:40.314755Z",
     "start_time": "2025-06-11T00:34:40.307458Z"
    }
   },
   "cell_type": "code",
   "source": "df['internet.OnlineBackup'].unique()",
   "outputs": [
    {
     "data": {
      "text/plain": [
       "array(['Yes', 'No', 'No internet service'], dtype=object)"
      ]
     },
     "execution_count": 18,
     "metadata": {},
     "output_type": "execute_result"
    }
   ],
   "execution_count": 18
  },
  {
   "metadata": {
    "ExecuteTime": {
     "end_time": "2025-06-11T00:34:40.375345Z",
     "start_time": "2025-06-11T00:34:40.366187Z"
    }
   },
   "cell_type": "code",
   "source": "df['internet.DeviceProtection'].unique()",
   "outputs": [
    {
     "data": {
      "text/plain": [
       "array(['No', 'Yes', 'No internet service'], dtype=object)"
      ]
     },
     "execution_count": 19,
     "metadata": {},
     "output_type": "execute_result"
    }
   ],
   "execution_count": 19
  },
  {
   "metadata": {
    "ExecuteTime": {
     "end_time": "2025-06-11T00:34:40.443012Z",
     "start_time": "2025-06-11T00:34:40.435344Z"
    }
   },
   "cell_type": "code",
   "source": "df['internet.TechSupport'].unique()",
   "outputs": [
    {
     "data": {
      "text/plain": [
       "array(['Yes', 'No', 'No internet service'], dtype=object)"
      ]
     },
     "execution_count": 20,
     "metadata": {},
     "output_type": "execute_result"
    }
   ],
   "execution_count": 20
  },
  {
   "metadata": {
    "ExecuteTime": {
     "end_time": "2025-06-11T00:34:40.536886Z",
     "start_time": "2025-06-11T00:34:40.528476Z"
    }
   },
   "cell_type": "code",
   "source": "df['internet.StreamingTV'].unique()",
   "outputs": [
    {
     "data": {
      "text/plain": [
       "array(['Yes', 'No', 'No internet service'], dtype=object)"
      ]
     },
     "execution_count": 21,
     "metadata": {},
     "output_type": "execute_result"
    }
   ],
   "execution_count": 21
  },
  {
   "metadata": {
    "ExecuteTime": {
     "end_time": "2025-06-11T00:34:40.602053Z",
     "start_time": "2025-06-11T00:34:40.595294Z"
    }
   },
   "cell_type": "code",
   "source": "df['internet.StreamingMovies'].unique()",
   "outputs": [
    {
     "data": {
      "text/plain": [
       "array(['No', 'Yes', 'No internet service'], dtype=object)"
      ]
     },
     "execution_count": 22,
     "metadata": {},
     "output_type": "execute_result"
    }
   ],
   "execution_count": 22
  },
  {
   "metadata": {
    "ExecuteTime": {
     "end_time": "2025-06-11T00:34:40.659857Z",
     "start_time": "2025-06-11T00:34:40.652909Z"
    }
   },
   "cell_type": "code",
   "source": "df['account.Contract'].unique()",
   "outputs": [
    {
     "data": {
      "text/plain": [
       "array(['One year', 'Month-to-month', 'Two year'], dtype=object)"
      ]
     },
     "execution_count": 23,
     "metadata": {},
     "output_type": "execute_result"
    }
   ],
   "execution_count": 23
  },
  {
   "metadata": {
    "ExecuteTime": {
     "end_time": "2025-06-11T00:34:40.710838Z",
     "start_time": "2025-06-11T00:34:40.704777Z"
    }
   },
   "cell_type": "code",
   "source": "df['account.PaperlessBilling'].unique()",
   "outputs": [
    {
     "data": {
      "text/plain": [
       "array(['Yes', 'No'], dtype=object)"
      ]
     },
     "execution_count": 24,
     "metadata": {},
     "output_type": "execute_result"
    }
   ],
   "execution_count": 24
  },
  {
   "metadata": {
    "ExecuteTime": {
     "end_time": "2025-06-11T00:34:40.750897Z",
     "start_time": "2025-06-11T00:34:40.745905Z"
    }
   },
   "cell_type": "code",
   "source": "df['account.PaymentMethod'].unique()",
   "outputs": [
    {
     "data": {
      "text/plain": [
       "array(['Mailed check', 'Electronic check', 'Credit card (automatic)',\n",
       "       'Bank transfer (automatic)'], dtype=object)"
      ]
     },
     "execution_count": 25,
     "metadata": {},
     "output_type": "execute_result"
    }
   ],
   "execution_count": 25
  },
  {
   "metadata": {
    "ExecuteTime": {
     "end_time": "2025-06-11T00:34:40.807266Z",
     "start_time": "2025-06-11T00:34:40.800012Z"
    }
   },
   "cell_type": "code",
   "source": [
    "df['account.Charges.Total'] = df['account.Charges.Total'].str.strip()\n",
    "\n",
    "df['account.Charges.Total'] = df['account.Charges.Total'].replace('', np.nan)\n"
   ],
   "outputs": [],
   "execution_count": 26
  },
  {
   "metadata": {
    "ExecuteTime": {
     "end_time": "2025-06-11T00:34:40.841609Z",
     "start_time": "2025-06-11T00:34:40.835263Z"
    }
   },
   "cell_type": "code",
   "source": "df['account.Charges.Total'] = df['account.Charges.Total'].astype(float)",
   "outputs": [],
   "execution_count": 27
  },
  {
   "metadata": {
    "ExecuteTime": {
     "end_time": "2025-06-11T00:34:40.876772Z",
     "start_time": "2025-06-11T00:34:40.863231Z"
    }
   },
   "cell_type": "code",
   "source": "df.info()",
   "outputs": [
    {
     "name": "stdout",
     "output_type": "stream",
     "text": [
      "<class 'pandas.core.frame.DataFrame'>\n",
      "RangeIndex: 7267 entries, 0 to 7266\n",
      "Data columns (total 21 columns):\n",
      " #   Column                     Non-Null Count  Dtype  \n",
      "---  ------                     --------------  -----  \n",
      " 0   customerID                 7267 non-null   object \n",
      " 1   Churn                      7043 non-null   object \n",
      " 2   customer.gender            7267 non-null   object \n",
      " 3   customer.SeniorCitizen     7267 non-null   object \n",
      " 4   customer.Partner           7267 non-null   object \n",
      " 5   customer.Dependents        7267 non-null   object \n",
      " 6   customer.tenure            7267 non-null   int64  \n",
      " 7   phone.PhoneService         7267 non-null   object \n",
      " 8   phone.MultipleLines        7267 non-null   object \n",
      " 9   internet.InternetService   7267 non-null   object \n",
      " 10  internet.OnlineSecurity    7267 non-null   object \n",
      " 11  internet.OnlineBackup      7267 non-null   object \n",
      " 12  internet.DeviceProtection  7267 non-null   object \n",
      " 13  internet.TechSupport       7267 non-null   object \n",
      " 14  internet.StreamingTV       7267 non-null   object \n",
      " 15  internet.StreamingMovies   7267 non-null   object \n",
      " 16  account.Contract           7267 non-null   object \n",
      " 17  account.PaperlessBilling   7267 non-null   object \n",
      " 18  account.PaymentMethod      7267 non-null   object \n",
      " 19  account.Charges.Monthly    7267 non-null   float64\n",
      " 20  account.Charges.Total      7256 non-null   float64\n",
      "dtypes: float64(2), int64(1), object(18)\n",
      "memory usage: 1.2+ MB\n"
     ]
    }
   ],
   "execution_count": 28
  },
  {
   "metadata": {
    "ExecuteTime": {
     "end_time": "2025-06-11T00:34:40.957919Z",
     "start_time": "2025-06-11T00:34:40.936853Z"
    }
   },
   "cell_type": "code",
   "source": "df.head()",
   "outputs": [
    {
     "data": {
      "text/plain": [
       "   customerID Churn customer.gender customer.SeniorCitizen customer.Partner  \\\n",
       "0  0002-ORFBO    No          Female                     No              Yes   \n",
       "1  0003-MKNFE    No            Male                     No               No   \n",
       "2  0004-TLHLJ   Yes            Male                     No               No   \n",
       "3  0011-IGKFF   Yes            Male                    Yes              Yes   \n",
       "4  0013-EXCHZ   Yes          Female                    Yes              Yes   \n",
       "\n",
       "  customer.Dependents  customer.tenure phone.PhoneService phone.MultipleLines  \\\n",
       "0                 Yes                9                Yes                  No   \n",
       "1                  No                9                Yes                 Yes   \n",
       "2                  No                4                Yes                  No   \n",
       "3                  No               13                Yes                  No   \n",
       "4                  No                3                Yes                  No   \n",
       "\n",
       "  internet.InternetService  ... internet.OnlineBackup  \\\n",
       "0                      DSL  ...                   Yes   \n",
       "1                      DSL  ...                    No   \n",
       "2              Fiber optic  ...                    No   \n",
       "3              Fiber optic  ...                   Yes   \n",
       "4              Fiber optic  ...                    No   \n",
       "\n",
       "  internet.DeviceProtection internet.TechSupport internet.StreamingTV  \\\n",
       "0                        No                  Yes                  Yes   \n",
       "1                        No                   No                   No   \n",
       "2                       Yes                   No                   No   \n",
       "3                       Yes                   No                  Yes   \n",
       "4                        No                  Yes                  Yes   \n",
       "\n",
       "  internet.StreamingMovies account.Contract account.PaperlessBilling  \\\n",
       "0                       No         One year                      Yes   \n",
       "1                      Yes   Month-to-month                       No   \n",
       "2                       No   Month-to-month                      Yes   \n",
       "3                      Yes   Month-to-month                      Yes   \n",
       "4                       No   Month-to-month                      Yes   \n",
       "\n",
       "  account.PaymentMethod account.Charges.Monthly  account.Charges.Total  \n",
       "0          Mailed check                    65.6                 593.30  \n",
       "1          Mailed check                    59.9                 542.40  \n",
       "2      Electronic check                    73.9                 280.85  \n",
       "3      Electronic check                    98.0                1237.85  \n",
       "4          Mailed check                    83.9                 267.40  \n",
       "\n",
       "[5 rows x 21 columns]"
      ],
      "text/html": [
       "<div>\n",
       "<style scoped>\n",
       "    .dataframe tbody tr th:only-of-type {\n",
       "        vertical-align: middle;\n",
       "    }\n",
       "\n",
       "    .dataframe tbody tr th {\n",
       "        vertical-align: top;\n",
       "    }\n",
       "\n",
       "    .dataframe thead th {\n",
       "        text-align: right;\n",
       "    }\n",
       "</style>\n",
       "<table border=\"1\" class=\"dataframe\">\n",
       "  <thead>\n",
       "    <tr style=\"text-align: right;\">\n",
       "      <th></th>\n",
       "      <th>customerID</th>\n",
       "      <th>Churn</th>\n",
       "      <th>customer.gender</th>\n",
       "      <th>customer.SeniorCitizen</th>\n",
       "      <th>customer.Partner</th>\n",
       "      <th>customer.Dependents</th>\n",
       "      <th>customer.tenure</th>\n",
       "      <th>phone.PhoneService</th>\n",
       "      <th>phone.MultipleLines</th>\n",
       "      <th>internet.InternetService</th>\n",
       "      <th>...</th>\n",
       "      <th>internet.OnlineBackup</th>\n",
       "      <th>internet.DeviceProtection</th>\n",
       "      <th>internet.TechSupport</th>\n",
       "      <th>internet.StreamingTV</th>\n",
       "      <th>internet.StreamingMovies</th>\n",
       "      <th>account.Contract</th>\n",
       "      <th>account.PaperlessBilling</th>\n",
       "      <th>account.PaymentMethod</th>\n",
       "      <th>account.Charges.Monthly</th>\n",
       "      <th>account.Charges.Total</th>\n",
       "    </tr>\n",
       "  </thead>\n",
       "  <tbody>\n",
       "    <tr>\n",
       "      <th>0</th>\n",
       "      <td>0002-ORFBO</td>\n",
       "      <td>No</td>\n",
       "      <td>Female</td>\n",
       "      <td>No</td>\n",
       "      <td>Yes</td>\n",
       "      <td>Yes</td>\n",
       "      <td>9</td>\n",
       "      <td>Yes</td>\n",
       "      <td>No</td>\n",
       "      <td>DSL</td>\n",
       "      <td>...</td>\n",
       "      <td>Yes</td>\n",
       "      <td>No</td>\n",
       "      <td>Yes</td>\n",
       "      <td>Yes</td>\n",
       "      <td>No</td>\n",
       "      <td>One year</td>\n",
       "      <td>Yes</td>\n",
       "      <td>Mailed check</td>\n",
       "      <td>65.6</td>\n",
       "      <td>593.30</td>\n",
       "    </tr>\n",
       "    <tr>\n",
       "      <th>1</th>\n",
       "      <td>0003-MKNFE</td>\n",
       "      <td>No</td>\n",
       "      <td>Male</td>\n",
       "      <td>No</td>\n",
       "      <td>No</td>\n",
       "      <td>No</td>\n",
       "      <td>9</td>\n",
       "      <td>Yes</td>\n",
       "      <td>Yes</td>\n",
       "      <td>DSL</td>\n",
       "      <td>...</td>\n",
       "      <td>No</td>\n",
       "      <td>No</td>\n",
       "      <td>No</td>\n",
       "      <td>No</td>\n",
       "      <td>Yes</td>\n",
       "      <td>Month-to-month</td>\n",
       "      <td>No</td>\n",
       "      <td>Mailed check</td>\n",
       "      <td>59.9</td>\n",
       "      <td>542.40</td>\n",
       "    </tr>\n",
       "    <tr>\n",
       "      <th>2</th>\n",
       "      <td>0004-TLHLJ</td>\n",
       "      <td>Yes</td>\n",
       "      <td>Male</td>\n",
       "      <td>No</td>\n",
       "      <td>No</td>\n",
       "      <td>No</td>\n",
       "      <td>4</td>\n",
       "      <td>Yes</td>\n",
       "      <td>No</td>\n",
       "      <td>Fiber optic</td>\n",
       "      <td>...</td>\n",
       "      <td>No</td>\n",
       "      <td>Yes</td>\n",
       "      <td>No</td>\n",
       "      <td>No</td>\n",
       "      <td>No</td>\n",
       "      <td>Month-to-month</td>\n",
       "      <td>Yes</td>\n",
       "      <td>Electronic check</td>\n",
       "      <td>73.9</td>\n",
       "      <td>280.85</td>\n",
       "    </tr>\n",
       "    <tr>\n",
       "      <th>3</th>\n",
       "      <td>0011-IGKFF</td>\n",
       "      <td>Yes</td>\n",
       "      <td>Male</td>\n",
       "      <td>Yes</td>\n",
       "      <td>Yes</td>\n",
       "      <td>No</td>\n",
       "      <td>13</td>\n",
       "      <td>Yes</td>\n",
       "      <td>No</td>\n",
       "      <td>Fiber optic</td>\n",
       "      <td>...</td>\n",
       "      <td>Yes</td>\n",
       "      <td>Yes</td>\n",
       "      <td>No</td>\n",
       "      <td>Yes</td>\n",
       "      <td>Yes</td>\n",
       "      <td>Month-to-month</td>\n",
       "      <td>Yes</td>\n",
       "      <td>Electronic check</td>\n",
       "      <td>98.0</td>\n",
       "      <td>1237.85</td>\n",
       "    </tr>\n",
       "    <tr>\n",
       "      <th>4</th>\n",
       "      <td>0013-EXCHZ</td>\n",
       "      <td>Yes</td>\n",
       "      <td>Female</td>\n",
       "      <td>Yes</td>\n",
       "      <td>Yes</td>\n",
       "      <td>No</td>\n",
       "      <td>3</td>\n",
       "      <td>Yes</td>\n",
       "      <td>No</td>\n",
       "      <td>Fiber optic</td>\n",
       "      <td>...</td>\n",
       "      <td>No</td>\n",
       "      <td>No</td>\n",
       "      <td>Yes</td>\n",
       "      <td>Yes</td>\n",
       "      <td>No</td>\n",
       "      <td>Month-to-month</td>\n",
       "      <td>Yes</td>\n",
       "      <td>Mailed check</td>\n",
       "      <td>83.9</td>\n",
       "      <td>267.40</td>\n",
       "    </tr>\n",
       "  </tbody>\n",
       "</table>\n",
       "<p>5 rows × 21 columns</p>\n",
       "</div>"
      ]
     },
     "execution_count": 29,
     "metadata": {},
     "output_type": "execute_result"
    }
   ],
   "execution_count": 29
  },
  {
   "metadata": {},
   "cell_type": "markdown",
   "source": "Por fim, antes do início da análise dos dados propriamente dita, salvaremos em formato .csv os arquivos tratados até o momento, para segurança."
  },
  {
   "cell_type": "code",
   "metadata": {
    "id": "1jgUnLqTmPdd",
    "ExecuteTime": {
     "end_time": "2025-06-11T00:34:41.142255Z",
     "start_time": "2025-06-11T00:34:41.034365Z"
    }
   },
   "source": "df.to_csv('data/TelecomX_Data_Tratados.csv', index=False, sep=';')",
   "outputs": [],
   "execution_count": 30
  },
  {
   "metadata": {
    "id": "6XnTC2NTmMRL"
   },
   "cell_type": "markdown",
   "source": "# 📊 Carga e análise"
  },
  {
   "metadata": {},
   "cell_type": "markdown",
   "source": [
    "#### Sobre os dados faltantes em \"Churn\"\n",
    "\n",
    "Fazendo o describe com os dados faltantes, percebemos que as médias das variáveis numéricas são muito próximas daquelas de todo o df, sobretudo de \"tenure\", o que comprova que não esta ausência não é relativa a clientes novos, nos quais ainda não foi gerada cobranças, mas sim a falhas na coleta de dados."
   ]
  },
  {
   "metadata": {
    "ExecuteTime": {
     "end_time": "2025-06-11T00:34:41.211638Z",
     "start_time": "2025-06-11T00:34:41.197629Z"
    }
   },
   "cell_type": "code",
   "source": [
    "# describe apenas das linhas onde Churn é None\n",
    "\n",
    "df[df['Churn'].isna()].describe()"
   ],
   "outputs": [
    {
     "data": {
      "text/plain": [
       "       customer.tenure  account.Charges.Monthly  account.Charges.Total\n",
       "count       224.000000               224.000000             224.000000\n",
       "mean         31.571429                63.412277            2196.933705\n",
       "std          24.998552                31.388712            2329.961954\n",
       "min           1.000000                18.750000              18.900000\n",
       "25%           7.000000                28.425000             351.037500\n",
       "50%          29.000000                69.100000            1163.175000\n",
       "75%          56.000000                90.412500            3562.862500\n",
       "max          72.000000               115.550000            8425.300000"
      ],
      "text/html": [
       "<div>\n",
       "<style scoped>\n",
       "    .dataframe tbody tr th:only-of-type {\n",
       "        vertical-align: middle;\n",
       "    }\n",
       "\n",
       "    .dataframe tbody tr th {\n",
       "        vertical-align: top;\n",
       "    }\n",
       "\n",
       "    .dataframe thead th {\n",
       "        text-align: right;\n",
       "    }\n",
       "</style>\n",
       "<table border=\"1\" class=\"dataframe\">\n",
       "  <thead>\n",
       "    <tr style=\"text-align: right;\">\n",
       "      <th></th>\n",
       "      <th>customer.tenure</th>\n",
       "      <th>account.Charges.Monthly</th>\n",
       "      <th>account.Charges.Total</th>\n",
       "    </tr>\n",
       "  </thead>\n",
       "  <tbody>\n",
       "    <tr>\n",
       "      <th>count</th>\n",
       "      <td>224.000000</td>\n",
       "      <td>224.000000</td>\n",
       "      <td>224.000000</td>\n",
       "    </tr>\n",
       "    <tr>\n",
       "      <th>mean</th>\n",
       "      <td>31.571429</td>\n",
       "      <td>63.412277</td>\n",
       "      <td>2196.933705</td>\n",
       "    </tr>\n",
       "    <tr>\n",
       "      <th>std</th>\n",
       "      <td>24.998552</td>\n",
       "      <td>31.388712</td>\n",
       "      <td>2329.961954</td>\n",
       "    </tr>\n",
       "    <tr>\n",
       "      <th>min</th>\n",
       "      <td>1.000000</td>\n",
       "      <td>18.750000</td>\n",
       "      <td>18.900000</td>\n",
       "    </tr>\n",
       "    <tr>\n",
       "      <th>25%</th>\n",
       "      <td>7.000000</td>\n",
       "      <td>28.425000</td>\n",
       "      <td>351.037500</td>\n",
       "    </tr>\n",
       "    <tr>\n",
       "      <th>50%</th>\n",
       "      <td>29.000000</td>\n",
       "      <td>69.100000</td>\n",
       "      <td>1163.175000</td>\n",
       "    </tr>\n",
       "    <tr>\n",
       "      <th>75%</th>\n",
       "      <td>56.000000</td>\n",
       "      <td>90.412500</td>\n",
       "      <td>3562.862500</td>\n",
       "    </tr>\n",
       "    <tr>\n",
       "      <th>max</th>\n",
       "      <td>72.000000</td>\n",
       "      <td>115.550000</td>\n",
       "      <td>8425.300000</td>\n",
       "    </tr>\n",
       "  </tbody>\n",
       "</table>\n",
       "</div>"
      ]
     },
     "execution_count": 31,
     "metadata": {},
     "output_type": "execute_result"
    }
   ],
   "execution_count": 31
  },
  {
   "cell_type": "markdown",
   "metadata": {
    "id": "v-WzfSvTmaw9"
   },
   "source": [
    "#📄Relatorio Final"
   ]
  },
  {
   "metadata": {
    "ExecuteTime": {
     "end_time": "2025-06-11T00:34:41.336252Z",
     "start_time": "2025-06-11T00:34:41.324952Z"
    }
   },
   "cell_type": "code",
   "source": [
    "# Describe dos Dataset completo\n",
    "df.describe()"
   ],
   "outputs": [
    {
     "data": {
      "text/plain": [
       "       customer.tenure  account.Charges.Monthly  account.Charges.Total\n",
       "count      7267.000000              7267.000000            7256.000000\n",
       "mean         32.346498                64.720098            2280.634213\n",
       "std          24.571773                30.129572            2268.632997\n",
       "min           0.000000                18.250000              18.800000\n",
       "25%           9.000000                35.425000             400.225000\n",
       "50%          29.000000                70.300000            1391.000000\n",
       "75%          55.000000                89.875000            3785.300000\n",
       "max          72.000000               118.750000            8684.800000"
      ],
      "text/html": [
       "<div>\n",
       "<style scoped>\n",
       "    .dataframe tbody tr th:only-of-type {\n",
       "        vertical-align: middle;\n",
       "    }\n",
       "\n",
       "    .dataframe tbody tr th {\n",
       "        vertical-align: top;\n",
       "    }\n",
       "\n",
       "    .dataframe thead th {\n",
       "        text-align: right;\n",
       "    }\n",
       "</style>\n",
       "<table border=\"1\" class=\"dataframe\">\n",
       "  <thead>\n",
       "    <tr style=\"text-align: right;\">\n",
       "      <th></th>\n",
       "      <th>customer.tenure</th>\n",
       "      <th>account.Charges.Monthly</th>\n",
       "      <th>account.Charges.Total</th>\n",
       "    </tr>\n",
       "  </thead>\n",
       "  <tbody>\n",
       "    <tr>\n",
       "      <th>count</th>\n",
       "      <td>7267.000000</td>\n",
       "      <td>7267.000000</td>\n",
       "      <td>7256.000000</td>\n",
       "    </tr>\n",
       "    <tr>\n",
       "      <th>mean</th>\n",
       "      <td>32.346498</td>\n",
       "      <td>64.720098</td>\n",
       "      <td>2280.634213</td>\n",
       "    </tr>\n",
       "    <tr>\n",
       "      <th>std</th>\n",
       "      <td>24.571773</td>\n",
       "      <td>30.129572</td>\n",
       "      <td>2268.632997</td>\n",
       "    </tr>\n",
       "    <tr>\n",
       "      <th>min</th>\n",
       "      <td>0.000000</td>\n",
       "      <td>18.250000</td>\n",
       "      <td>18.800000</td>\n",
       "    </tr>\n",
       "    <tr>\n",
       "      <th>25%</th>\n",
       "      <td>9.000000</td>\n",
       "      <td>35.425000</td>\n",
       "      <td>400.225000</td>\n",
       "    </tr>\n",
       "    <tr>\n",
       "      <th>50%</th>\n",
       "      <td>29.000000</td>\n",
       "      <td>70.300000</td>\n",
       "      <td>1391.000000</td>\n",
       "    </tr>\n",
       "    <tr>\n",
       "      <th>75%</th>\n",
       "      <td>55.000000</td>\n",
       "      <td>89.875000</td>\n",
       "      <td>3785.300000</td>\n",
       "    </tr>\n",
       "    <tr>\n",
       "      <th>max</th>\n",
       "      <td>72.000000</td>\n",
       "      <td>118.750000</td>\n",
       "      <td>8684.800000</td>\n",
       "    </tr>\n",
       "  </tbody>\n",
       "</table>\n",
       "</div>"
      ]
     },
     "execution_count": 32,
     "metadata": {},
     "output_type": "execute_result"
    }
   ],
   "execution_count": 32
  },
  {
   "metadata": {},
   "cell_type": "markdown",
   "source": "Importante salientar, que em todos os clientes que possuem \"tenure\" como 0, ou seja, clientes novos, o valor de account.Charge.Total está vazio. Dessa forma, para preencher esses dados faltantes, nestas linhas o valor será igual ao pago mensalmente. Vale dizer que apenas nestas linhas há falta de Charge.Total (mesmos id's)"
  },
  {
   "metadata": {
    "ExecuteTime": {
     "end_time": "2025-06-11T00:34:41.486521Z",
     "start_time": "2025-06-11T00:34:41.477560Z"
    }
   },
   "cell_type": "code",
   "source": "print(df.query('`customer.tenure` == 0').equals(df[df['account.Charges.Total'].isna()]))",
   "outputs": [
    {
     "name": "stdout",
     "output_type": "stream",
     "text": [
      "True\n"
     ]
    }
   ],
   "execution_count": 33
  },
  {
   "metadata": {
    "ExecuteTime": {
     "end_time": "2025-06-11T00:34:41.711247Z",
     "start_time": "2025-06-11T00:34:41.707209Z"
    }
   },
   "cell_type": "code",
   "source": "df['account.Charges.Total'] = df['account.Charges.Total'].fillna(df['account.Charges.Monthly'])",
   "outputs": [],
   "execution_count": 34
  },
  {
   "metadata": {
    "ExecuteTime": {
     "end_time": "2025-06-11T00:34:41.815608Z",
     "start_time": "2025-06-11T00:34:41.796269Z"
    }
   },
   "cell_type": "code",
   "source": "df.query('`customer.tenure` == 0')",
   "outputs": [
    {
     "data": {
      "text/plain": [
       "      customerID Churn customer.gender customer.SeniorCitizen  \\\n",
       "975   1371-DWPAZ    No          Female                     No   \n",
       "1775  2520-SGTTA    No          Female                     No   \n",
       "1955  2775-SEFEE    No            Male                     No   \n",
       "2075  2923-ARZLG    No            Male                     No   \n",
       "2232  3115-CZMZD    No            Male                     No   \n",
       "2308  3213-VVOLG    No            Male                     No   \n",
       "2930  4075-WKNIU    No          Female                     No   \n",
       "3134  4367-NUYAO    No            Male                     No   \n",
       "3203  4472-LVYGI    No          Female                     No   \n",
       "4169  5709-LVOEQ    No          Female                     No   \n",
       "5599  7644-OMVMY    No            Male                     No   \n",
       "\n",
       "     customer.Partner customer.Dependents  customer.tenure phone.PhoneService  \\\n",
       "975               Yes                 Yes                0                 No   \n",
       "1775              Yes                 Yes                0                Yes   \n",
       "1955               No                 Yes                0                Yes   \n",
       "2075              Yes                 Yes                0                Yes   \n",
       "2232               No                 Yes                0                Yes   \n",
       "2308              Yes                 Yes                0                Yes   \n",
       "2930              Yes                 Yes                0                Yes   \n",
       "3134              Yes                 Yes                0                Yes   \n",
       "3203              Yes                 Yes                0                 No   \n",
       "4169              Yes                 Yes                0                Yes   \n",
       "5599              Yes                 Yes                0                Yes   \n",
       "\n",
       "     phone.MultipleLines internet.InternetService  ... internet.OnlineBackup  \\\n",
       "975     No phone service                      DSL  ...                   Yes   \n",
       "1775                  No                       No  ...   No internet service   \n",
       "1955                 Yes                      DSL  ...                   Yes   \n",
       "2075                  No                       No  ...   No internet service   \n",
       "2232                  No                       No  ...   No internet service   \n",
       "2308                 Yes                       No  ...   No internet service   \n",
       "2930                 Yes                      DSL  ...                   Yes   \n",
       "3134                 Yes                       No  ...   No internet service   \n",
       "3203    No phone service                      DSL  ...                    No   \n",
       "4169                  No                      DSL  ...                   Yes   \n",
       "5599                  No                       No  ...   No internet service   \n",
       "\n",
       "     internet.DeviceProtection internet.TechSupport internet.StreamingTV  \\\n",
       "975                        Yes                  Yes                  Yes   \n",
       "1775       No internet service  No internet service  No internet service   \n",
       "1955                        No                  Yes                   No   \n",
       "2075       No internet service  No internet service  No internet service   \n",
       "2232       No internet service  No internet service  No internet service   \n",
       "2308       No internet service  No internet service  No internet service   \n",
       "2930                       Yes                  Yes                  Yes   \n",
       "3134       No internet service  No internet service  No internet service   \n",
       "3203                       Yes                  Yes                  Yes   \n",
       "4169                       Yes                   No                  Yes   \n",
       "5599       No internet service  No internet service  No internet service   \n",
       "\n",
       "     internet.StreamingMovies account.Contract account.PaperlessBilling  \\\n",
       "975                        No         Two year                       No   \n",
       "1775      No internet service         Two year                       No   \n",
       "1955                       No         Two year                      Yes   \n",
       "2075      No internet service         One year                      Yes   \n",
       "2232      No internet service         Two year                       No   \n",
       "2308      No internet service         Two year                       No   \n",
       "2930                       No         Two year                       No   \n",
       "3134      No internet service         Two year                       No   \n",
       "3203                       No         Two year                      Yes   \n",
       "4169                      Yes         Two year                       No   \n",
       "5599      No internet service         Two year                       No   \n",
       "\n",
       "          account.PaymentMethod account.Charges.Monthly  account.Charges.Total  \n",
       "975     Credit card (automatic)                   56.05                  56.05  \n",
       "1775               Mailed check                   20.00                  20.00  \n",
       "1955  Bank transfer (automatic)                   61.90                  61.90  \n",
       "2075               Mailed check                   19.70                  19.70  \n",
       "2232               Mailed check                   20.25                  20.25  \n",
       "2308               Mailed check                   25.35                  25.35  \n",
       "2930               Mailed check                   73.35                  73.35  \n",
       "3134               Mailed check                   25.75                  25.75  \n",
       "3203  Bank transfer (automatic)                   52.55                  52.55  \n",
       "4169               Mailed check                   80.85                  80.85  \n",
       "5599               Mailed check                   19.85                  19.85  \n",
       "\n",
       "[11 rows x 21 columns]"
      ],
      "text/html": [
       "<div>\n",
       "<style scoped>\n",
       "    .dataframe tbody tr th:only-of-type {\n",
       "        vertical-align: middle;\n",
       "    }\n",
       "\n",
       "    .dataframe tbody tr th {\n",
       "        vertical-align: top;\n",
       "    }\n",
       "\n",
       "    .dataframe thead th {\n",
       "        text-align: right;\n",
       "    }\n",
       "</style>\n",
       "<table border=\"1\" class=\"dataframe\">\n",
       "  <thead>\n",
       "    <tr style=\"text-align: right;\">\n",
       "      <th></th>\n",
       "      <th>customerID</th>\n",
       "      <th>Churn</th>\n",
       "      <th>customer.gender</th>\n",
       "      <th>customer.SeniorCitizen</th>\n",
       "      <th>customer.Partner</th>\n",
       "      <th>customer.Dependents</th>\n",
       "      <th>customer.tenure</th>\n",
       "      <th>phone.PhoneService</th>\n",
       "      <th>phone.MultipleLines</th>\n",
       "      <th>internet.InternetService</th>\n",
       "      <th>...</th>\n",
       "      <th>internet.OnlineBackup</th>\n",
       "      <th>internet.DeviceProtection</th>\n",
       "      <th>internet.TechSupport</th>\n",
       "      <th>internet.StreamingTV</th>\n",
       "      <th>internet.StreamingMovies</th>\n",
       "      <th>account.Contract</th>\n",
       "      <th>account.PaperlessBilling</th>\n",
       "      <th>account.PaymentMethod</th>\n",
       "      <th>account.Charges.Monthly</th>\n",
       "      <th>account.Charges.Total</th>\n",
       "    </tr>\n",
       "  </thead>\n",
       "  <tbody>\n",
       "    <tr>\n",
       "      <th>975</th>\n",
       "      <td>1371-DWPAZ</td>\n",
       "      <td>No</td>\n",
       "      <td>Female</td>\n",
       "      <td>No</td>\n",
       "      <td>Yes</td>\n",
       "      <td>Yes</td>\n",
       "      <td>0</td>\n",
       "      <td>No</td>\n",
       "      <td>No phone service</td>\n",
       "      <td>DSL</td>\n",
       "      <td>...</td>\n",
       "      <td>Yes</td>\n",
       "      <td>Yes</td>\n",
       "      <td>Yes</td>\n",
       "      <td>Yes</td>\n",
       "      <td>No</td>\n",
       "      <td>Two year</td>\n",
       "      <td>No</td>\n",
       "      <td>Credit card (automatic)</td>\n",
       "      <td>56.05</td>\n",
       "      <td>56.05</td>\n",
       "    </tr>\n",
       "    <tr>\n",
       "      <th>1775</th>\n",
       "      <td>2520-SGTTA</td>\n",
       "      <td>No</td>\n",
       "      <td>Female</td>\n",
       "      <td>No</td>\n",
       "      <td>Yes</td>\n",
       "      <td>Yes</td>\n",
       "      <td>0</td>\n",
       "      <td>Yes</td>\n",
       "      <td>No</td>\n",
       "      <td>No</td>\n",
       "      <td>...</td>\n",
       "      <td>No internet service</td>\n",
       "      <td>No internet service</td>\n",
       "      <td>No internet service</td>\n",
       "      <td>No internet service</td>\n",
       "      <td>No internet service</td>\n",
       "      <td>Two year</td>\n",
       "      <td>No</td>\n",
       "      <td>Mailed check</td>\n",
       "      <td>20.00</td>\n",
       "      <td>20.00</td>\n",
       "    </tr>\n",
       "    <tr>\n",
       "      <th>1955</th>\n",
       "      <td>2775-SEFEE</td>\n",
       "      <td>No</td>\n",
       "      <td>Male</td>\n",
       "      <td>No</td>\n",
       "      <td>No</td>\n",
       "      <td>Yes</td>\n",
       "      <td>0</td>\n",
       "      <td>Yes</td>\n",
       "      <td>Yes</td>\n",
       "      <td>DSL</td>\n",
       "      <td>...</td>\n",
       "      <td>Yes</td>\n",
       "      <td>No</td>\n",
       "      <td>Yes</td>\n",
       "      <td>No</td>\n",
       "      <td>No</td>\n",
       "      <td>Two year</td>\n",
       "      <td>Yes</td>\n",
       "      <td>Bank transfer (automatic)</td>\n",
       "      <td>61.90</td>\n",
       "      <td>61.90</td>\n",
       "    </tr>\n",
       "    <tr>\n",
       "      <th>2075</th>\n",
       "      <td>2923-ARZLG</td>\n",
       "      <td>No</td>\n",
       "      <td>Male</td>\n",
       "      <td>No</td>\n",
       "      <td>Yes</td>\n",
       "      <td>Yes</td>\n",
       "      <td>0</td>\n",
       "      <td>Yes</td>\n",
       "      <td>No</td>\n",
       "      <td>No</td>\n",
       "      <td>...</td>\n",
       "      <td>No internet service</td>\n",
       "      <td>No internet service</td>\n",
       "      <td>No internet service</td>\n",
       "      <td>No internet service</td>\n",
       "      <td>No internet service</td>\n",
       "      <td>One year</td>\n",
       "      <td>Yes</td>\n",
       "      <td>Mailed check</td>\n",
       "      <td>19.70</td>\n",
       "      <td>19.70</td>\n",
       "    </tr>\n",
       "    <tr>\n",
       "      <th>2232</th>\n",
       "      <td>3115-CZMZD</td>\n",
       "      <td>No</td>\n",
       "      <td>Male</td>\n",
       "      <td>No</td>\n",
       "      <td>No</td>\n",
       "      <td>Yes</td>\n",
       "      <td>0</td>\n",
       "      <td>Yes</td>\n",
       "      <td>No</td>\n",
       "      <td>No</td>\n",
       "      <td>...</td>\n",
       "      <td>No internet service</td>\n",
       "      <td>No internet service</td>\n",
       "      <td>No internet service</td>\n",
       "      <td>No internet service</td>\n",
       "      <td>No internet service</td>\n",
       "      <td>Two year</td>\n",
       "      <td>No</td>\n",
       "      <td>Mailed check</td>\n",
       "      <td>20.25</td>\n",
       "      <td>20.25</td>\n",
       "    </tr>\n",
       "    <tr>\n",
       "      <th>2308</th>\n",
       "      <td>3213-VVOLG</td>\n",
       "      <td>No</td>\n",
       "      <td>Male</td>\n",
       "      <td>No</td>\n",
       "      <td>Yes</td>\n",
       "      <td>Yes</td>\n",
       "      <td>0</td>\n",
       "      <td>Yes</td>\n",
       "      <td>Yes</td>\n",
       "      <td>No</td>\n",
       "      <td>...</td>\n",
       "      <td>No internet service</td>\n",
       "      <td>No internet service</td>\n",
       "      <td>No internet service</td>\n",
       "      <td>No internet service</td>\n",
       "      <td>No internet service</td>\n",
       "      <td>Two year</td>\n",
       "      <td>No</td>\n",
       "      <td>Mailed check</td>\n",
       "      <td>25.35</td>\n",
       "      <td>25.35</td>\n",
       "    </tr>\n",
       "    <tr>\n",
       "      <th>2930</th>\n",
       "      <td>4075-WKNIU</td>\n",
       "      <td>No</td>\n",
       "      <td>Female</td>\n",
       "      <td>No</td>\n",
       "      <td>Yes</td>\n",
       "      <td>Yes</td>\n",
       "      <td>0</td>\n",
       "      <td>Yes</td>\n",
       "      <td>Yes</td>\n",
       "      <td>DSL</td>\n",
       "      <td>...</td>\n",
       "      <td>Yes</td>\n",
       "      <td>Yes</td>\n",
       "      <td>Yes</td>\n",
       "      <td>Yes</td>\n",
       "      <td>No</td>\n",
       "      <td>Two year</td>\n",
       "      <td>No</td>\n",
       "      <td>Mailed check</td>\n",
       "      <td>73.35</td>\n",
       "      <td>73.35</td>\n",
       "    </tr>\n",
       "    <tr>\n",
       "      <th>3134</th>\n",
       "      <td>4367-NUYAO</td>\n",
       "      <td>No</td>\n",
       "      <td>Male</td>\n",
       "      <td>No</td>\n",
       "      <td>Yes</td>\n",
       "      <td>Yes</td>\n",
       "      <td>0</td>\n",
       "      <td>Yes</td>\n",
       "      <td>Yes</td>\n",
       "      <td>No</td>\n",
       "      <td>...</td>\n",
       "      <td>No internet service</td>\n",
       "      <td>No internet service</td>\n",
       "      <td>No internet service</td>\n",
       "      <td>No internet service</td>\n",
       "      <td>No internet service</td>\n",
       "      <td>Two year</td>\n",
       "      <td>No</td>\n",
       "      <td>Mailed check</td>\n",
       "      <td>25.75</td>\n",
       "      <td>25.75</td>\n",
       "    </tr>\n",
       "    <tr>\n",
       "      <th>3203</th>\n",
       "      <td>4472-LVYGI</td>\n",
       "      <td>No</td>\n",
       "      <td>Female</td>\n",
       "      <td>No</td>\n",
       "      <td>Yes</td>\n",
       "      <td>Yes</td>\n",
       "      <td>0</td>\n",
       "      <td>No</td>\n",
       "      <td>No phone service</td>\n",
       "      <td>DSL</td>\n",
       "      <td>...</td>\n",
       "      <td>No</td>\n",
       "      <td>Yes</td>\n",
       "      <td>Yes</td>\n",
       "      <td>Yes</td>\n",
       "      <td>No</td>\n",
       "      <td>Two year</td>\n",
       "      <td>Yes</td>\n",
       "      <td>Bank transfer (automatic)</td>\n",
       "      <td>52.55</td>\n",
       "      <td>52.55</td>\n",
       "    </tr>\n",
       "    <tr>\n",
       "      <th>4169</th>\n",
       "      <td>5709-LVOEQ</td>\n",
       "      <td>No</td>\n",
       "      <td>Female</td>\n",
       "      <td>No</td>\n",
       "      <td>Yes</td>\n",
       "      <td>Yes</td>\n",
       "      <td>0</td>\n",
       "      <td>Yes</td>\n",
       "      <td>No</td>\n",
       "      <td>DSL</td>\n",
       "      <td>...</td>\n",
       "      <td>Yes</td>\n",
       "      <td>Yes</td>\n",
       "      <td>No</td>\n",
       "      <td>Yes</td>\n",
       "      <td>Yes</td>\n",
       "      <td>Two year</td>\n",
       "      <td>No</td>\n",
       "      <td>Mailed check</td>\n",
       "      <td>80.85</td>\n",
       "      <td>80.85</td>\n",
       "    </tr>\n",
       "    <tr>\n",
       "      <th>5599</th>\n",
       "      <td>7644-OMVMY</td>\n",
       "      <td>No</td>\n",
       "      <td>Male</td>\n",
       "      <td>No</td>\n",
       "      <td>Yes</td>\n",
       "      <td>Yes</td>\n",
       "      <td>0</td>\n",
       "      <td>Yes</td>\n",
       "      <td>No</td>\n",
       "      <td>No</td>\n",
       "      <td>...</td>\n",
       "      <td>No internet service</td>\n",
       "      <td>No internet service</td>\n",
       "      <td>No internet service</td>\n",
       "      <td>No internet service</td>\n",
       "      <td>No internet service</td>\n",
       "      <td>Two year</td>\n",
       "      <td>No</td>\n",
       "      <td>Mailed check</td>\n",
       "      <td>19.85</td>\n",
       "      <td>19.85</td>\n",
       "    </tr>\n",
       "  </tbody>\n",
       "</table>\n",
       "<p>11 rows × 21 columns</p>\n",
       "</div>"
      ]
     },
     "execution_count": 35,
     "metadata": {},
     "output_type": "execute_result"
    }
   ],
   "execution_count": 35
  },
  {
   "metadata": {
    "ExecuteTime": {
     "end_time": "2025-06-11T00:34:41.906519Z",
     "start_time": "2025-06-11T00:34:41.902983Z"
    }
   },
   "cell_type": "code",
   "source": "",
   "outputs": [],
   "execution_count": null
  }
 ],
 "metadata": {
  "colab": {
   "provenance": []
  },
  "kernelspec": {
   "display_name": "Python 3",
   "name": "python3"
  },
  "language_info": {
   "name": "python"
  }
 },
 "nbformat": 4,
 "nbformat_minor": 0
}
