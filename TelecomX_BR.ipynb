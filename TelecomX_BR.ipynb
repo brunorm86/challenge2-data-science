{
 "cells": [
  {
   "cell_type": "markdown",
   "metadata": {
    "id": "4foVEKhrlqcH"
   },
   "source": [
    "#📌 Extracão"
   ]
  },
  {
   "metadata": {
    "ExecuteTime": {
     "end_time": "2025-06-10T21:07:38.239658Z",
     "start_time": "2025-06-10T21:07:37.955012Z"
    }
   },
   "cell_type": "code",
   "source": [
    "# Importação das bibliotecas\n",
    "\n",
    "import pandas as pd\n",
    "import numpy as np\n",
    "import seaborn as sns\n",
    "\n",
    "import requests\n",
    "import json\n"
   ],
   "outputs": [],
   "execution_count": 1
  },
  {
   "cell_type": "code",
   "metadata": {
    "id": "1--uPM88l7JH",
    "ExecuteTime": {
     "end_time": "2025-06-10T21:07:38.895424Z",
     "start_time": "2025-06-10T21:07:38.460396Z"
    }
   },
   "source": [
    "# Request e transformação dos dados\n",
    "\n",
    "try:\n",
    "    url = 'https://raw.githubusercontent.com/brunorm86/challenge2-data-science/refs/heads/main/TelecomX_Data.json'\n",
    "\n",
    "    json_data = requests.get(url).json()\n",
    "\n",
    "# Caso não consiga ler os dados pela url, lê sua cópia offline\n",
    "except:\n",
    "    with open('data/TelecomX_Data.json', 'r') as file:\n",
    "        json_data = json.load(file)\n"
   ],
   "outputs": [],
   "execution_count": 2
  },
  {
   "metadata": {
    "ExecuteTime": {
     "end_time": "2025-06-10T21:07:38.930974Z",
     "start_time": "2025-06-10T21:07:38.923416Z"
    }
   },
   "cell_type": "code",
   "source": "json_data[0]",
   "outputs": [
    {
     "data": {
      "text/plain": [
       "{'customerID': '0002-ORFBO',\n",
       " 'Churn': 'No',\n",
       " 'customer': {'gender': 'Female',\n",
       "  'SeniorCitizen': 0,\n",
       "  'Partner': 'Yes',\n",
       "  'Dependents': 'Yes',\n",
       "  'tenure': 9},\n",
       " 'phone': {'PhoneService': 'Yes', 'MultipleLines': 'No'},\n",
       " 'internet': {'InternetService': 'DSL',\n",
       "  'OnlineSecurity': 'No',\n",
       "  'OnlineBackup': 'Yes',\n",
       "  'DeviceProtection': 'No',\n",
       "  'TechSupport': 'Yes',\n",
       "  'StreamingTV': 'Yes',\n",
       "  'StreamingMovies': 'No'},\n",
       " 'account': {'Contract': 'One year',\n",
       "  'PaperlessBilling': 'Yes',\n",
       "  'PaymentMethod': 'Mailed check',\n",
       "  'Charges': {'Monthly': 65.6, 'Total': '593.3'}}}"
      ]
     },
     "execution_count": 3,
     "metadata": {},
     "output_type": "execute_result"
    }
   ],
   "execution_count": 3
  },
  {
   "metadata": {
    "ExecuteTime": {
     "end_time": "2025-06-10T21:07:38.959084Z",
     "start_time": "2025-06-10T21:07:38.948258Z"
    }
   },
   "cell_type": "code",
   "source": "# Dados \"aninhados\" no json",
   "outputs": [],
   "execution_count": 4
  },
  {
   "cell_type": "markdown",
   "metadata": {
    "id": "1lSZP8zmmGZu"
   },
   "source": [
    "#🔧 Transformação"
   ]
  },
  {
   "metadata": {},
   "cell_type": "markdown",
   "source": "Desaninhamento dos dados"
  },
  {
   "cell_type": "code",
   "metadata": {
    "id": "bsm-WTLjmHvt",
    "ExecuteTime": {
     "end_time": "2025-06-10T21:07:39.058644Z",
     "start_time": "2025-06-10T21:07:38.975754Z"
    }
   },
   "source": [
    "'''\n",
    "customer = pd.json_normalize(df_raw['customer'])\n",
    "\n",
    "phone = pd.json_normalize(df_raw['phone'])\n",
    "\n",
    "internet = pd.json_normalize(df_raw['internet'])\n",
    "\n",
    "account = pd.json_normalize(df_raw['account'])\n",
    "'''\n",
    "\n",
    "# desaninhando os dados com .json_normalize()\n",
    "\n",
    "df = pd.json_normalize(json_data)\n",
    "\n",
    "df.head()"
   ],
   "outputs": [
    {
     "data": {
      "text/plain": [
       "   customerID Churn customer.gender  customer.SeniorCitizen customer.Partner  \\\n",
       "0  0002-ORFBO    No          Female                       0              Yes   \n",
       "1  0003-MKNFE    No            Male                       0               No   \n",
       "2  0004-TLHLJ   Yes            Male                       0               No   \n",
       "3  0011-IGKFF   Yes            Male                       1              Yes   \n",
       "4  0013-EXCHZ   Yes          Female                       1              Yes   \n",
       "\n",
       "  customer.Dependents  customer.tenure phone.PhoneService phone.MultipleLines  \\\n",
       "0                 Yes                9                Yes                  No   \n",
       "1                  No                9                Yes                 Yes   \n",
       "2                  No                4                Yes                  No   \n",
       "3                  No               13                Yes                  No   \n",
       "4                  No                3                Yes                  No   \n",
       "\n",
       "  internet.InternetService  ... internet.OnlineBackup  \\\n",
       "0                      DSL  ...                   Yes   \n",
       "1                      DSL  ...                    No   \n",
       "2              Fiber optic  ...                    No   \n",
       "3              Fiber optic  ...                   Yes   \n",
       "4              Fiber optic  ...                    No   \n",
       "\n",
       "  internet.DeviceProtection internet.TechSupport internet.StreamingTV  \\\n",
       "0                        No                  Yes                  Yes   \n",
       "1                        No                   No                   No   \n",
       "2                       Yes                   No                   No   \n",
       "3                       Yes                   No                  Yes   \n",
       "4                        No                  Yes                  Yes   \n",
       "\n",
       "  internet.StreamingMovies account.Contract account.PaperlessBilling  \\\n",
       "0                       No         One year                      Yes   \n",
       "1                      Yes   Month-to-month                       No   \n",
       "2                       No   Month-to-month                      Yes   \n",
       "3                      Yes   Month-to-month                      Yes   \n",
       "4                       No   Month-to-month                      Yes   \n",
       "\n",
       "  account.PaymentMethod account.Charges.Monthly  account.Charges.Total  \n",
       "0          Mailed check                    65.6                  593.3  \n",
       "1          Mailed check                    59.9                  542.4  \n",
       "2      Electronic check                    73.9                 280.85  \n",
       "3      Electronic check                    98.0                1237.85  \n",
       "4          Mailed check                    83.9                  267.4  \n",
       "\n",
       "[5 rows x 21 columns]"
      ],
      "text/html": [
       "<div>\n",
       "<style scoped>\n",
       "    .dataframe tbody tr th:only-of-type {\n",
       "        vertical-align: middle;\n",
       "    }\n",
       "\n",
       "    .dataframe tbody tr th {\n",
       "        vertical-align: top;\n",
       "    }\n",
       "\n",
       "    .dataframe thead th {\n",
       "        text-align: right;\n",
       "    }\n",
       "</style>\n",
       "<table border=\"1\" class=\"dataframe\">\n",
       "  <thead>\n",
       "    <tr style=\"text-align: right;\">\n",
       "      <th></th>\n",
       "      <th>customerID</th>\n",
       "      <th>Churn</th>\n",
       "      <th>customer.gender</th>\n",
       "      <th>customer.SeniorCitizen</th>\n",
       "      <th>customer.Partner</th>\n",
       "      <th>customer.Dependents</th>\n",
       "      <th>customer.tenure</th>\n",
       "      <th>phone.PhoneService</th>\n",
       "      <th>phone.MultipleLines</th>\n",
       "      <th>internet.InternetService</th>\n",
       "      <th>...</th>\n",
       "      <th>internet.OnlineBackup</th>\n",
       "      <th>internet.DeviceProtection</th>\n",
       "      <th>internet.TechSupport</th>\n",
       "      <th>internet.StreamingTV</th>\n",
       "      <th>internet.StreamingMovies</th>\n",
       "      <th>account.Contract</th>\n",
       "      <th>account.PaperlessBilling</th>\n",
       "      <th>account.PaymentMethod</th>\n",
       "      <th>account.Charges.Monthly</th>\n",
       "      <th>account.Charges.Total</th>\n",
       "    </tr>\n",
       "  </thead>\n",
       "  <tbody>\n",
       "    <tr>\n",
       "      <th>0</th>\n",
       "      <td>0002-ORFBO</td>\n",
       "      <td>No</td>\n",
       "      <td>Female</td>\n",
       "      <td>0</td>\n",
       "      <td>Yes</td>\n",
       "      <td>Yes</td>\n",
       "      <td>9</td>\n",
       "      <td>Yes</td>\n",
       "      <td>No</td>\n",
       "      <td>DSL</td>\n",
       "      <td>...</td>\n",
       "      <td>Yes</td>\n",
       "      <td>No</td>\n",
       "      <td>Yes</td>\n",
       "      <td>Yes</td>\n",
       "      <td>No</td>\n",
       "      <td>One year</td>\n",
       "      <td>Yes</td>\n",
       "      <td>Mailed check</td>\n",
       "      <td>65.6</td>\n",
       "      <td>593.3</td>\n",
       "    </tr>\n",
       "    <tr>\n",
       "      <th>1</th>\n",
       "      <td>0003-MKNFE</td>\n",
       "      <td>No</td>\n",
       "      <td>Male</td>\n",
       "      <td>0</td>\n",
       "      <td>No</td>\n",
       "      <td>No</td>\n",
       "      <td>9</td>\n",
       "      <td>Yes</td>\n",
       "      <td>Yes</td>\n",
       "      <td>DSL</td>\n",
       "      <td>...</td>\n",
       "      <td>No</td>\n",
       "      <td>No</td>\n",
       "      <td>No</td>\n",
       "      <td>No</td>\n",
       "      <td>Yes</td>\n",
       "      <td>Month-to-month</td>\n",
       "      <td>No</td>\n",
       "      <td>Mailed check</td>\n",
       "      <td>59.9</td>\n",
       "      <td>542.4</td>\n",
       "    </tr>\n",
       "    <tr>\n",
       "      <th>2</th>\n",
       "      <td>0004-TLHLJ</td>\n",
       "      <td>Yes</td>\n",
       "      <td>Male</td>\n",
       "      <td>0</td>\n",
       "      <td>No</td>\n",
       "      <td>No</td>\n",
       "      <td>4</td>\n",
       "      <td>Yes</td>\n",
       "      <td>No</td>\n",
       "      <td>Fiber optic</td>\n",
       "      <td>...</td>\n",
       "      <td>No</td>\n",
       "      <td>Yes</td>\n",
       "      <td>No</td>\n",
       "      <td>No</td>\n",
       "      <td>No</td>\n",
       "      <td>Month-to-month</td>\n",
       "      <td>Yes</td>\n",
       "      <td>Electronic check</td>\n",
       "      <td>73.9</td>\n",
       "      <td>280.85</td>\n",
       "    </tr>\n",
       "    <tr>\n",
       "      <th>3</th>\n",
       "      <td>0011-IGKFF</td>\n",
       "      <td>Yes</td>\n",
       "      <td>Male</td>\n",
       "      <td>1</td>\n",
       "      <td>Yes</td>\n",
       "      <td>No</td>\n",
       "      <td>13</td>\n",
       "      <td>Yes</td>\n",
       "      <td>No</td>\n",
       "      <td>Fiber optic</td>\n",
       "      <td>...</td>\n",
       "      <td>Yes</td>\n",
       "      <td>Yes</td>\n",
       "      <td>No</td>\n",
       "      <td>Yes</td>\n",
       "      <td>Yes</td>\n",
       "      <td>Month-to-month</td>\n",
       "      <td>Yes</td>\n",
       "      <td>Electronic check</td>\n",
       "      <td>98.0</td>\n",
       "      <td>1237.85</td>\n",
       "    </tr>\n",
       "    <tr>\n",
       "      <th>4</th>\n",
       "      <td>0013-EXCHZ</td>\n",
       "      <td>Yes</td>\n",
       "      <td>Female</td>\n",
       "      <td>1</td>\n",
       "      <td>Yes</td>\n",
       "      <td>No</td>\n",
       "      <td>3</td>\n",
       "      <td>Yes</td>\n",
       "      <td>No</td>\n",
       "      <td>Fiber optic</td>\n",
       "      <td>...</td>\n",
       "      <td>No</td>\n",
       "      <td>No</td>\n",
       "      <td>Yes</td>\n",
       "      <td>Yes</td>\n",
       "      <td>No</td>\n",
       "      <td>Month-to-month</td>\n",
       "      <td>Yes</td>\n",
       "      <td>Mailed check</td>\n",
       "      <td>83.9</td>\n",
       "      <td>267.4</td>\n",
       "    </tr>\n",
       "  </tbody>\n",
       "</table>\n",
       "<p>5 rows × 21 columns</p>\n",
       "</div>"
      ]
     },
     "execution_count": 5,
     "metadata": {},
     "output_type": "execute_result"
    }
   ],
   "execution_count": 5
  },
  {
   "metadata": {
    "ExecuteTime": {
     "end_time": "2025-06-10T21:07:39.109389Z",
     "start_time": "2025-06-10T21:07:39.101918Z"
    }
   },
   "cell_type": "code",
   "source": "df.shape",
   "outputs": [
    {
     "data": {
      "text/plain": [
       "(7267, 21)"
      ]
     },
     "execution_count": 6,
     "metadata": {},
     "output_type": "execute_result"
    }
   ],
   "execution_count": 6
  },
  {
   "metadata": {
    "ExecuteTime": {
     "end_time": "2025-06-10T21:07:39.271907Z",
     "start_time": "2025-06-10T21:07:39.262035Z"
    }
   },
   "cell_type": "code",
   "source": "df.info()",
   "outputs": [
    {
     "name": "stdout",
     "output_type": "stream",
     "text": [
      "<class 'pandas.core.frame.DataFrame'>\n",
      "RangeIndex: 7267 entries, 0 to 7266\n",
      "Data columns (total 21 columns):\n",
      " #   Column                     Non-Null Count  Dtype  \n",
      "---  ------                     --------------  -----  \n",
      " 0   customerID                 7267 non-null   object \n",
      " 1   Churn                      7267 non-null   object \n",
      " 2   customer.gender            7267 non-null   object \n",
      " 3   customer.SeniorCitizen     7267 non-null   int64  \n",
      " 4   customer.Partner           7267 non-null   object \n",
      " 5   customer.Dependents        7267 non-null   object \n",
      " 6   customer.tenure            7267 non-null   int64  \n",
      " 7   phone.PhoneService         7267 non-null   object \n",
      " 8   phone.MultipleLines        7267 non-null   object \n",
      " 9   internet.InternetService   7267 non-null   object \n",
      " 10  internet.OnlineSecurity    7267 non-null   object \n",
      " 11  internet.OnlineBackup      7267 non-null   object \n",
      " 12  internet.DeviceProtection  7267 non-null   object \n",
      " 13  internet.TechSupport       7267 non-null   object \n",
      " 14  internet.StreamingTV       7267 non-null   object \n",
      " 15  internet.StreamingMovies   7267 non-null   object \n",
      " 16  account.Contract           7267 non-null   object \n",
      " 17  account.PaperlessBilling   7267 non-null   object \n",
      " 18  account.PaymentMethod      7267 non-null   object \n",
      " 19  account.Charges.Monthly    7267 non-null   float64\n",
      " 20  account.Charges.Total      7267 non-null   object \n",
      "dtypes: float64(1), int64(2), object(18)\n",
      "memory usage: 1.2+ MB\n"
     ]
    }
   ],
   "execution_count": 7
  },
  {
   "metadata": {},
   "cell_type": "markdown",
   "source": "Padronizar os valores das colunas e transformar os tipos de dados para mais apropriados"
  },
  {
   "metadata": {
    "ExecuteTime": {
     "end_time": "2025-06-10T21:07:39.377090Z",
     "start_time": "2025-06-10T21:07:39.372594Z"
    }
   },
   "cell_type": "code",
   "source": "df['Churn'].unique()",
   "outputs": [
    {
     "data": {
      "text/plain": [
       "array(['No', 'Yes', ''], dtype=object)"
      ]
     },
     "execution_count": 9,
     "metadata": {},
     "output_type": "execute_result"
    }
   ],
   "execution_count": 9
  },
  {
   "metadata": {
    "ExecuteTime": {
     "end_time": "2025-06-10T21:07:39.431581Z",
     "start_time": "2025-06-10T21:07:39.427113Z"
    }
   },
   "cell_type": "code",
   "source": "df['Churn'] = df['Churn'].map({'No': 'No', 'Yes':'Yes', '': None})",
   "outputs": [],
   "execution_count": 10
  },
  {
   "metadata": {
    "ExecuteTime": {
     "end_time": "2025-06-10T21:07:39.457490Z",
     "start_time": "2025-06-10T21:07:39.452310Z"
    }
   },
   "cell_type": "code",
   "source": "df['customer.SeniorCitizen'].unique()",
   "outputs": [
    {
     "data": {
      "text/plain": [
       "array([0, 1])"
      ]
     },
     "execution_count": 11,
     "metadata": {},
     "output_type": "execute_result"
    }
   ],
   "execution_count": 11
  },
  {
   "metadata": {
    "ExecuteTime": {
     "end_time": "2025-06-10T21:07:39.516360Z",
     "start_time": "2025-06-10T21:07:39.508089Z"
    }
   },
   "cell_type": "code",
   "source": "df['customer.SeniorCitizen'] = df['customer.SeniorCitizen'].map({1: 'Yes', 0: 'No'})",
   "outputs": [],
   "execution_count": 12
  },
  {
   "metadata": {
    "ExecuteTime": {
     "end_time": "2025-06-10T21:07:39.586210Z",
     "start_time": "2025-06-10T21:07:39.571845Z"
    }
   },
   "cell_type": "code",
   "source": "df['customer.Partner'].unique()",
   "outputs": [
    {
     "data": {
      "text/plain": [
       "array(['Yes', 'No'], dtype=object)"
      ]
     },
     "execution_count": 13,
     "metadata": {},
     "output_type": "execute_result"
    }
   ],
   "execution_count": 13
  },
  {
   "metadata": {
    "ExecuteTime": {
     "end_time": "2025-06-10T21:07:39.677183Z",
     "start_time": "2025-06-10T21:07:39.670914Z"
    }
   },
   "cell_type": "code",
   "source": "# df['customer.Partner'] = df['customer.Partner'].map({'Yes': True, 'No': False})",
   "outputs": [],
   "execution_count": 14
  },
  {
   "metadata": {
    "ExecuteTime": {
     "end_time": "2025-06-10T21:07:39.750463Z",
     "start_time": "2025-06-10T21:07:39.741302Z"
    }
   },
   "cell_type": "code",
   "source": "df['customer.Dependents'].unique()",
   "outputs": [
    {
     "data": {
      "text/plain": [
       "array(['Yes', 'No'], dtype=object)"
      ]
     },
     "execution_count": 15,
     "metadata": {},
     "output_type": "execute_result"
    }
   ],
   "execution_count": 15
  },
  {
   "metadata": {
    "ExecuteTime": {
     "end_time": "2025-06-10T21:07:39.793817Z",
     "start_time": "2025-06-10T21:07:39.790230Z"
    }
   },
   "cell_type": "code",
   "source": "# df['customer.Partner'] = df['customer.Partner'].map({'Yes': True, 'No': False})",
   "outputs": [],
   "execution_count": 16
  },
  {
   "metadata": {
    "ExecuteTime": {
     "end_time": "2025-06-10T21:07:39.824478Z",
     "start_time": "2025-06-10T21:07:39.818930Z"
    }
   },
   "cell_type": "code",
   "source": "df['phone.PhoneService'].unique()",
   "outputs": [
    {
     "data": {
      "text/plain": [
       "array(['Yes', 'No'], dtype=object)"
      ]
     },
     "execution_count": 17,
     "metadata": {},
     "output_type": "execute_result"
    }
   ],
   "execution_count": 17
  },
  {
   "metadata": {
    "ExecuteTime": {
     "end_time": "2025-06-10T21:07:39.864132Z",
     "start_time": "2025-06-10T21:07:39.861479Z"
    }
   },
   "cell_type": "code",
   "source": "# df['phone.PhoneService'] = df['phone.PhoneService'].map({'Yes': True, 'No': False})",
   "outputs": [],
   "execution_count": 18
  },
  {
   "metadata": {
    "ExecuteTime": {
     "end_time": "2025-06-10T21:07:39.907778Z",
     "start_time": "2025-06-10T21:07:39.900316Z"
    }
   },
   "cell_type": "code",
   "source": "df['phone.MultipleLines'].unique()",
   "outputs": [
    {
     "data": {
      "text/plain": [
       "array(['No', 'Yes', 'No phone service'], dtype=object)"
      ]
     },
     "execution_count": 19,
     "metadata": {},
     "output_type": "execute_result"
    }
   ],
   "execution_count": 19
  },
  {
   "metadata": {
    "ExecuteTime": {
     "end_time": "2025-06-10T21:07:39.940407Z",
     "start_time": "2025-06-10T21:07:39.937693Z"
    }
   },
   "cell_type": "code",
   "source": "# df['phone.MultipleLines'] = df['phone.MultipleLines'].map({'Yes': True, 'No': False, 'No phone service': None})",
   "outputs": [],
   "execution_count": 20
  },
  {
   "metadata": {
    "ExecuteTime": {
     "end_time": "2025-06-10T21:07:39.984334Z",
     "start_time": "2025-06-10T21:07:39.977287Z"
    }
   },
   "cell_type": "code",
   "source": "df['internet.InternetService'].unique()",
   "outputs": [
    {
     "data": {
      "text/plain": [
       "array(['DSL', 'Fiber optic', 'No'], dtype=object)"
      ]
     },
     "execution_count": 21,
     "metadata": {},
     "output_type": "execute_result"
    }
   ],
   "execution_count": 21
  },
  {
   "metadata": {
    "ExecuteTime": {
     "end_time": "2025-06-10T21:07:40.014079Z",
     "start_time": "2025-06-10T21:07:40.010934Z"
    }
   },
   "cell_type": "code",
   "source": "# df['internet.InternetService'] = df['internet.InternetService'].map({'No': None})",
   "outputs": [],
   "execution_count": 22
  },
  {
   "metadata": {
    "ExecuteTime": {
     "end_time": "2025-06-10T21:07:40.049216Z",
     "start_time": "2025-06-10T21:07:40.041655Z"
    }
   },
   "cell_type": "code",
   "source": "df['internet.OnlineSecurity'].unique()",
   "outputs": [
    {
     "data": {
      "text/plain": [
       "array(['No', 'Yes', 'No internet service'], dtype=object)"
      ]
     },
     "execution_count": 23,
     "metadata": {},
     "output_type": "execute_result"
    }
   ],
   "execution_count": 23
  },
  {
   "metadata": {
    "ExecuteTime": {
     "end_time": "2025-06-10T21:07:40.084882Z",
     "start_time": "2025-06-10T21:07:40.079398Z"
    }
   },
   "cell_type": "code",
   "source": "df['internet.OnlineBackup'].unique()",
   "outputs": [
    {
     "data": {
      "text/plain": [
       "array(['Yes', 'No', 'No internet service'], dtype=object)"
      ]
     },
     "execution_count": 24,
     "metadata": {},
     "output_type": "execute_result"
    }
   ],
   "execution_count": 24
  },
  {
   "metadata": {
    "ExecuteTime": {
     "end_time": "2025-06-10T21:07:40.138393Z",
     "start_time": "2025-06-10T21:07:40.131902Z"
    }
   },
   "cell_type": "code",
   "source": "df['internet.DeviceProtection'].unique()",
   "outputs": [
    {
     "data": {
      "text/plain": [
       "array(['No', 'Yes', 'No internet service'], dtype=object)"
      ]
     },
     "execution_count": 25,
     "metadata": {},
     "output_type": "execute_result"
    }
   ],
   "execution_count": 25
  },
  {
   "metadata": {
    "ExecuteTime": {
     "end_time": "2025-06-10T21:07:40.193780Z",
     "start_time": "2025-06-10T21:07:40.187339Z"
    }
   },
   "cell_type": "code",
   "source": "df['internet.TechSupport'].unique()",
   "outputs": [
    {
     "data": {
      "text/plain": [
       "array(['Yes', 'No', 'No internet service'], dtype=object)"
      ]
     },
     "execution_count": 26,
     "metadata": {},
     "output_type": "execute_result"
    }
   ],
   "execution_count": 26
  },
  {
   "metadata": {
    "ExecuteTime": {
     "end_time": "2025-06-10T21:07:40.253332Z",
     "start_time": "2025-06-10T21:07:40.247053Z"
    }
   },
   "cell_type": "code",
   "source": "df['internet.StreamingTV'].unique()",
   "outputs": [
    {
     "data": {
      "text/plain": [
       "array(['Yes', 'No', 'No internet service'], dtype=object)"
      ]
     },
     "execution_count": 27,
     "metadata": {},
     "output_type": "execute_result"
    }
   ],
   "execution_count": 27
  },
  {
   "metadata": {
    "ExecuteTime": {
     "end_time": "2025-06-10T21:07:40.320166Z",
     "start_time": "2025-06-10T21:07:40.312254Z"
    }
   },
   "cell_type": "code",
   "source": "df['internet.StreamingMovies'].unique()",
   "outputs": [
    {
     "data": {
      "text/plain": [
       "array(['No', 'Yes', 'No internet service'], dtype=object)"
      ]
     },
     "execution_count": 28,
     "metadata": {},
     "output_type": "execute_result"
    }
   ],
   "execution_count": 28
  },
  {
   "metadata": {
    "ExecuteTime": {
     "end_time": "2025-06-10T21:07:40.379906Z",
     "start_time": "2025-06-10T21:07:40.374452Z"
    }
   },
   "cell_type": "code",
   "source": "df['account.Contract'].unique()",
   "outputs": [
    {
     "data": {
      "text/plain": [
       "array(['One year', 'Month-to-month', 'Two year'], dtype=object)"
      ]
     },
     "execution_count": 29,
     "metadata": {},
     "output_type": "execute_result"
    }
   ],
   "execution_count": 29
  },
  {
   "metadata": {
    "ExecuteTime": {
     "end_time": "2025-06-10T21:07:40.425525Z",
     "start_time": "2025-06-10T21:07:40.421168Z"
    }
   },
   "cell_type": "code",
   "source": "df['account.PaperlessBilling'].unique()",
   "outputs": [
    {
     "data": {
      "text/plain": [
       "array(['Yes', 'No'], dtype=object)"
      ]
     },
     "execution_count": 30,
     "metadata": {},
     "output_type": "execute_result"
    }
   ],
   "execution_count": 30
  },
  {
   "metadata": {
    "ExecuteTime": {
     "end_time": "2025-06-10T21:07:40.466301Z",
     "start_time": "2025-06-10T21:07:40.460053Z"
    }
   },
   "cell_type": "code",
   "source": "df['account.PaymentMethod'].unique()",
   "outputs": [
    {
     "data": {
      "text/plain": [
       "array(['Mailed check', 'Electronic check', 'Credit card (automatic)',\n",
       "       'Bank transfer (automatic)'], dtype=object)"
      ]
     },
     "execution_count": 31,
     "metadata": {},
     "output_type": "execute_result"
    }
   ],
   "execution_count": 31
  },
  {
   "metadata": {
    "ExecuteTime": {
     "end_time": "2025-06-10T21:07:40.492731Z",
     "start_time": "2025-06-10T21:07:40.487390Z"
    }
   },
   "cell_type": "code",
   "source": "df['account.Charges.Monthly'].value_counts()",
   "outputs": [
    {
     "data": {
      "text/plain": [
       "account.Charges.Monthly\n",
       "20.05     65\n",
       "19.90     46\n",
       "19.85     46\n",
       "19.55     45\n",
       "19.70     45\n",
       "          ..\n",
       "39.15      1\n",
       "82.35      1\n",
       "73.30      1\n",
       "117.60     1\n",
       "48.20      1\n",
       "Name: count, Length: 1585, dtype: int64"
      ]
     },
     "execution_count": 32,
     "metadata": {},
     "output_type": "execute_result"
    }
   ],
   "execution_count": 32
  },
  {
   "metadata": {
    "ExecuteTime": {
     "end_time": "2025-06-10T21:07:40.547609Z",
     "start_time": "2025-06-10T21:07:40.539566Z"
    }
   },
   "cell_type": "code",
   "source": "df['account.Charges.Total'].value_counts()",
   "outputs": [
    {
     "data": {
      "text/plain": [
       "account.Charges.Total\n",
       "20.2       11\n",
       "           11\n",
       "19.75       9\n",
       "19.55       9\n",
       "19.9        9\n",
       "           ..\n",
       "1993.2      1\n",
       "72.1        1\n",
       "1237.85     1\n",
       "542.4       1\n",
       "593.3       1\n",
       "Name: count, Length: 6531, dtype: int64"
      ]
     },
     "execution_count": 33,
     "metadata": {},
     "output_type": "execute_result"
    }
   ],
   "execution_count": 33
  },
  {
   "metadata": {
    "ExecuteTime": {
     "end_time": "2025-06-10T21:08:58.341340Z",
     "start_time": "2025-06-10T21:08:58.327030Z"
    }
   },
   "cell_type": "code",
   "source": [
    "df['account.Charges.Total'] = df['account.Charges.Total'].str.strip()\n",
    "\n",
    "df['account.Charges.Total'] = df['account.Charges.Total'].replace('', np.nan)\n"
   ],
   "outputs": [],
   "execution_count": 35
  },
  {
   "metadata": {
    "ExecuteTime": {
     "end_time": "2025-06-10T21:09:02.991293Z",
     "start_time": "2025-06-10T21:09:02.981049Z"
    }
   },
   "cell_type": "code",
   "source": "df['account.Charges.Total'] = df['account.Charges.Total'].astype(float)",
   "outputs": [],
   "execution_count": 36
  },
  {
   "metadata": {
    "ExecuteTime": {
     "end_time": "2025-06-10T21:09:19.547164Z",
     "start_time": "2025-06-10T21:09:19.521828Z"
    }
   },
   "cell_type": "code",
   "source": "df.info()",
   "outputs": [
    {
     "name": "stdout",
     "output_type": "stream",
     "text": [
      "<class 'pandas.core.frame.DataFrame'>\n",
      "RangeIndex: 7267 entries, 0 to 7266\n",
      "Data columns (total 21 columns):\n",
      " #   Column                     Non-Null Count  Dtype  \n",
      "---  ------                     --------------  -----  \n",
      " 0   customerID                 7267 non-null   object \n",
      " 1   Churn                      7043 non-null   object \n",
      " 2   customer.gender            7267 non-null   object \n",
      " 3   customer.SeniorCitizen     7267 non-null   object \n",
      " 4   customer.Partner           7267 non-null   object \n",
      " 5   customer.Dependents        7267 non-null   object \n",
      " 6   customer.tenure            7267 non-null   int64  \n",
      " 7   phone.PhoneService         7267 non-null   object \n",
      " 8   phone.MultipleLines        7267 non-null   object \n",
      " 9   internet.InternetService   7267 non-null   object \n",
      " 10  internet.OnlineSecurity    7267 non-null   object \n",
      " 11  internet.OnlineBackup      7267 non-null   object \n",
      " 12  internet.DeviceProtection  7267 non-null   object \n",
      " 13  internet.TechSupport       7267 non-null   object \n",
      " 14  internet.StreamingTV       7267 non-null   object \n",
      " 15  internet.StreamingMovies   7267 non-null   object \n",
      " 16  account.Contract           7267 non-null   object \n",
      " 17  account.PaperlessBilling   7267 non-null   object \n",
      " 18  account.PaymentMethod      7267 non-null   object \n",
      " 19  account.Charges.Monthly    7267 non-null   float64\n",
      " 20  account.Charges.Total      7256 non-null   float64\n",
      "dtypes: float64(2), int64(1), object(18)\n",
      "memory usage: 1.2+ MB\n"
     ]
    }
   ],
   "execution_count": 37
  },
  {
   "metadata": {},
   "cell_type": "code",
   "outputs": [],
   "execution_count": null,
   "source": "df"
  },
  {
   "cell_type": "markdown",
   "metadata": {
    "id": "6XnTC2NTmMRL"
   },
   "source": "#📊 Carga e análise"
  },
  {
   "metadata": {},
   "cell_type": "markdown",
   "source": "Primeiramente, salvaremos em um formato .csv os arquivos tratados até o momento, para segurança"
  },
  {
   "cell_type": "code",
   "metadata": {
    "id": "1jgUnLqTmPdd",
    "ExecuteTime": {
     "end_time": "2025-06-10T21:13:38.992491Z",
     "start_time": "2025-06-10T21:13:38.910924Z"
    }
   },
   "source": "df.to_csv('data/TelecomX_Data_Tratados.csv', index=False, sep=';')",
   "outputs": [],
   "execution_count": 41
  },
  {
   "cell_type": "markdown",
   "metadata": {
    "id": "v-WzfSvTmaw9"
   },
   "source": [
    "#📄Relatorio Final"
   ]
  },
  {
   "cell_type": "code",
   "metadata": {
    "id": "XMTac0YJmeK9",
    "ExecuteTime": {
     "end_time": "2025-06-10T21:07:41.149652Z",
     "start_time": "2025-06-10T20:58:43.728298Z"
    }
   },
   "source": [],
   "outputs": [],
   "execution_count": null
  }
 ],
 "metadata": {
  "colab": {
   "provenance": []
  },
  "kernelspec": {
   "display_name": "Python 3",
   "name": "python3"
  },
  "language_info": {
   "name": "python"
  }
 },
 "nbformat": 4,
 "nbformat_minor": 0
}
